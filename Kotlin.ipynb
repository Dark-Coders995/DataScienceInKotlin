{
 "cells":[
  {
   "cell_type":"code",
   "source":[
    " \n",
    "%use krangl\n",
    "%use lets-plot"
   ],
   "execution_count":1,
   "outputs":[
    {
     "data":{
      "text\/html":[
       
      ]
     },
     "metadata":{
      
     },
     "output_type":"display_data"
    }
   ],
   "metadata":{
    "datalore":{
     "node_id":"Y4u3f8CquXk29VuZjrjN9C",
     "type":"CODE",
     "hide_input_from_viewers":false,
     "hide_output_from_viewers":false,
     "report_properties":{
      "rowId":"vNXpWbzeO7omPrtbVyYGwa",
      "relativeY":0
     }
    }
   }
  },
  {
   "cell_type":"code",
   "source":[
    "val df = DataFrame.readCSV(\"ramen-ratings.csv\")\n",
    "val processedDF = df.filter({it[\"Stars\"].isMatching<String>{ !startsWith(\"Un\")}}).addColumn(\"StarAsDouble\"){it[\"Stars\"].map<String> {it.toDouble()}}"
   ],
   "execution_count":2,
   "outputs":[
    
   ],
   "metadata":{
    "datalore":{
     "node_id":"EfsNbn4oIO61a54OmKucMO",
     "type":"CODE",
     "hide_input_from_viewers":false,
     "hide_output_from_viewers":false,
     "report_properties":{
      "rowId":"s4SclxiPX4a8jG4OnEdhKC",
      "relativeY":0
     }
    }
   }
  },
  {
   "cell_type":"code",
   "source":[
    "val distinctBrandsPerCountry = processedDF.groupBy(\"Country\").distinct(\"Brand\").groupBy(\"Country\").count()\n",
    "val (xs, ys) = distinctBrandsPerCountry.rows.map{row -> (row[\"Country\"] as String) to (row[\"n\"] as Int)}.unzip()\n",
    "val p = letsPlot(mapOf(\"country\" to xs, \"brands\" to ys))\n",
    "val layer = geomBar (stat= Stat.identity, fill = \"#78B3CA\"){\n",
    "    x = \"country\"\n",
    "    y = \"brands\"\n",
    "}\n",
    "p+ layer"
   ],
   "execution_count":6,
   "outputs":[
    {
     "data":{
      "text\/html":[
       "            <script type=\"text\/javascript\" data-lets-plot-script=\"library\" src=\"https:\/\/cdn.jsdelivr.net\/gh\/JetBrains\/lets-plot@v2.5.1\/js-package\/distr\/lets-plot.min.js\"><\/script>    \n",
       "               <div id=\"nRfsoe\"><\/div>\n",
       "   <script type=\"text\/javascript\" data-lets-plot-script=\"plot\">\n",
       "       var plotSpec={\n",
       "\"mapping\":{\n",
       "},\n",
       "\"data\":{\n",
       "\"country\":[\"Japan\",\"Taiwan\",\"USA\",\"India\",\"South Korea\",\"Singapore\",\"Thailand\",\"Hong Kong\",\"Vietnam\",\"Ghana\",\"Malaysia\",\"Indonesia\",\"China\",\"Germany\",\"Hungary\",\"Mexico\",\"Fiji\",\"Australia\",\"Pakistan\",\"Bangladesh\",\"Canada\",\"Nepal\",\"UK\",\"Netherlands\",\"Finland\",\"Sarawak\",\"Philippines\",\"Sweden\",\"Estonia\",\"Poland\",\"Dubai\"],\n",
       "\"brands\":[58.0,47.0,44.0,7.0,32.0,5.0,22.0,9.0,14.0,2.0,28.0,18.0,22.0,2.0,1.0,1.0,1.0,4.0,2.0,1.0,7.0,1.0,11.0,4.0,1.0,2.0,4.0,2.0,1.0,1.0,1.0]\n",
       "},\n",
       "\"kind\":\"plot\",\n",
       "\"scales\":[],\n",
       "\"layers\":[{\n",
       "\"mapping\":{\n",
       "\"x\":\"country\",\n",
       "\"y\":\"brands\"\n",
       "},\n",
       "\"stat\":\"identity\",\n",
       "\"data\":{\n",
       "},\n",
       "\"position\":\"stack\",\n",
       "\"geom\":\"bar\",\n",
       "\"fill\":\"#78B3CA\"\n",
       "}]\n",
       "};\n",
       "       var plotContainer = document.getElementById(\"nRfsoe\");\n",
       "       LetsPlot.buildPlotFromProcessedSpecs(plotSpec, -1, -1, plotContainer);\n",
       "   <\/script>    "
      ]
     },
     "metadata":{
      
     },
     "output_type":"display_data"
    }
   ],
   "metadata":{
    "datalore":{
     "node_id":"gbAnTE31I81CrDUVgnWanT",
     "type":"CODE",
     "hide_input_from_viewers":false,
     "hide_output_from_viewers":false,
     "report_properties":{
      "rowId":"aAZuF4HwwBZNzVPdiM4CMg",
      "relativeY":0
     }
    }
   }
  },
  {
   "cell_type":"code",
   "source":[
    "val data = mapOf<String , Any>(\n",
    "    \"cat1\" to listOf(\"a\" , \"a\", \"b\",\"a\",\"a\",\"a\",\"a\",\"b\",\"b\",\"b\",\"b\" ),\n",
    "    \"cat2\" to listOf(\"c\", \"c\",\"d\",\"d\",\"d\",\"c\",\"c\",\"d\",\"c\",\"c\",\"d\"))\n",
    "    val p = letsPlot(data)"
   ],
   "execution_count":8,
   "outputs":[
    
   ],
   "metadata":{
    "datalore":{
     "node_id":"P9QZGBASZk7NfSLm5TK8Is",
     "type":"CODE",
     "hide_input_from_viewers":false,
     "hide_output_from_viewers":false,
     "report_properties":{
      "rowId":"yDK3GG34P2kMHfPPROC8Z6",
      "relativeY":0
     }
    }
   }
  },
  {
   "cell_type":"code",
   "source":[
    "val layer = geomBar{\n",
    "    x = \"cat1\"\n",
    "    fill = \"cat2\"\n",
    "}\n",
    "p+layer"
   ],
   "execution_count":9,
   "outputs":[
    {
     "data":{
      "text\/html":[
       "            <script type=\"text\/javascript\" data-lets-plot-script=\"library\" src=\"https:\/\/cdn.jsdelivr.net\/gh\/JetBrains\/lets-plot@v2.5.1\/js-package\/distr\/lets-plot.min.js\"><\/script>    \n",
       "               <div id=\"nJGR5w\"><\/div>\n",
       "   <script type=\"text\/javascript\" data-lets-plot-script=\"plot\">\n",
       "       var plotSpec={\n",
       "\"mapping\":{\n",
       "},\n",
       "\"data\":{\n",
       "},\n",
       "\"kind\":\"plot\",\n",
       "\"scales\":[],\n",
       "\"layers\":[{\n",
       "\"mapping\":{\n",
       "\"x\":\"cat1\",\n",
       "\"fill\":\"cat2\"\n",
       "},\n",
       "\"stat\":\"count\",\n",
       "\"data\":{\n",
       "\"cat2\":[\"c\",\"c\",\"d\",\"d\"],\n",
       "\"cat1\":[\"a\",\"b\",\"b\",\"a\"],\n",
       "\"..count..\":[4.0,2.0,3.0,2.0]\n",
       "},\n",
       "\"position\":\"stack\",\n",
       "\"geom\":\"bar\"\n",
       "}]\n",
       "};\n",
       "       var plotContainer = document.getElementById(\"nJGR5w\");\n",
       "       LetsPlot.buildPlotFromProcessedSpecs(plotSpec, -1, -1, plotContainer);\n",
       "   <\/script>    "
      ]
     },
     "metadata":{
      
     },
     "output_type":"display_data"
    }
   ],
   "metadata":{
    "datalore":{
     "node_id":"vTUFYJZbPNrpgm4YdtTmgh",
     "type":"CODE",
     "hide_input_from_viewers":false,
     "hide_output_from_viewers":false,
     "report_properties":{
      "rowId":"VotDbzVGcfwsUAvpgwiSPw",
      "relativeY":0
     }
    }
   }
  }
 ],
 "metadata":{
  "kernelspec":{
   "display_name":"Kotlin",
   "language":"kotlin",
   "name":"kotlin"
  },
  "datalore":{
   "computation_mode":"REACTIVE",
   "package_manager":"pip",
   "base_environment":"default",
   "packages":[
    
   ],
   "report_row_ids":[
    "vNXpWbzeO7omPrtbVyYGwa",
    "s4SclxiPX4a8jG4OnEdhKC",
    "aAZuF4HwwBZNzVPdiM4CMg",
    "yDK3GG34P2kMHfPPROC8Z6",
    "VotDbzVGcfwsUAvpgwiSPw"
   ],
   "version":3
  }
 },
 "nbformat":4,
 "nbformat_minor":4
}